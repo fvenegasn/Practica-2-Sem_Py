{
 "cells": [
  {
   "cell_type": "markdown",
   "metadata": {},
   "source": [
    "## Enunciado\n",
    "\n",
    "11. Con la información de los archivos de texto que se encuentran disponibles en el curso:\n",
    "* nombres_1\n",
    "* nombres_2\n",
    "\n",
    "* Indique los nombres que se encuentran en ambos. Nota: pruebe utilizando list comprehension.\n",
    "\n",
    "* Genere tres variables con lista de notas y nombres que se incluyen en los archivos: nombres_1, eval1.txt y eval2.txt e imprima con formato los nombres de los estudiantes con las correspondientes nota y la suma de ambas como se ve a continuación en la imágen."
   ]
  },
  {
   "cell_type": "markdown",
   "metadata": {},
   "source": [
    "# Solución"
   ]
  },
  {
   "cell_type": "markdown",
   "metadata": {},
   "source": [
    "Para esta solución, decidí declarar una función que me permita limpiar los caracteres que no necesitaba de los archivos de textos provistos, y un método propio de list comprehension, tal como se pide en el enunciado:"
   ]
  },
  {
   "cell_type": "code",
   "execution_count": 1,
   "metadata": {},
   "outputs": [],
   "source": [
    "def limpiar_lista(lista):\n",
    "    \"\"\"Esta función limpia de caracteres no deseados a la lista recibida\"\"\"\n",
    "    aux = []\n",
    "    for elem in lista:\n",
    "        elem = elem.replace(\"\\n\", \"\").replace(\",\", \"\").replace(\"'\", \"\").replace(\" \", \"\")\n",
    "        aux.append(elem)\n",
    "    return aux"
   ]
  },
  {
   "cell_type": "code",
   "execution_count": 2,
   "metadata": {},
   "outputs": [],
   "source": [
    "#Identifica nombres que aparecen en ambos archivos\n",
    "#list_comprehension = [alumnos[x] for x in range(len(alumnos)) if alumnos[x] == alumnos_2[x]]"
   ]
  },
  {
   "cell_type": "markdown",
   "metadata": {},
   "source": [
    "Luego, se abrieron los archivos en modo lectura los archivos indicados en el enunciado, en formato lista para facilitar su procesamiento:"
   ]
  },
  {
   "cell_type": "code",
   "execution_count": 3,
   "metadata": {},
   "outputs": [],
   "source": [
    "nombres = list(open ('nombres_1.txt', 'r', encoding='utf-8')) #Variable con lista de nombres (1)\n",
    "nombres_2 = list(open ('nombres_2.txt', 'r', encoding='utf-8')) #Variable con lista de nombres (2)\n",
    "notas1 = list(open ('eval1.txt', 'r', encoding='utf-8')) #Variable con lista de la evaluación 1\n",
    "notas2 = list(open ('eval2.txt', 'r', encoding='utf-8')) #Variable con lista de la evaluación 2"
   ]
  },
  {
   "cell_type": "markdown",
   "metadata": {},
   "source": [
    "A efectos de limpiar los caracteres que no eran necesarios en las listas que se obtuvieron de los archivos, se declaró una función que quite los mismos: "
   ]
  },
  {
   "cell_type": "code",
   "execution_count": 4,
   "metadata": {},
   "outputs": [],
   "source": [
    "alumnos = limpiar_lista (nombres)\n",
    "alumnos_2 = limpiar_lista (nombres_2)\n",
    "evaluacion1 = limpiar_lista (notas1)\n",
    "evaluacion2 = limpiar_lista (notas2)"
   ]
  },
  {
   "cell_type": "markdown",
   "metadata": {},
   "source": [
    "Se declaró un método por \"list comprehension\" para indicar los nombres que se repetían en los arhivos \"nombres_1.txt\" y \"nombres_2.txt\":"
   ]
  },
  {
   "cell_type": "code",
   "execution_count": 5,
   "metadata": {},
   "outputs": [
    {
     "name": "stdout",
     "output_type": "stream",
     "text": [
      "['Agustin', 'Facundo', 'Facundo']\n"
     ]
    }
   ],
   "source": [
    "list_comprehension = [alumnos[x] for x in range(len(alumnos)) if alumnos[x] == alumnos_2[x]]\n",
    "\n",
    "print(list_comprehension) #Imprime los repetidos"
   ]
  },
  {
   "cell_type": "markdown",
   "metadata": {},
   "source": [
    "De acuerdo a las variables generadas en formato lista, que surgieron de los archivos, se imprimió, para cada alumno, su código, nombre y detalle de notas de acuerdo al formato requerido en el enunciado."
   ]
  },
  {
   "cell_type": "code",
   "execution_count": 6,
   "metadata": {},
   "outputs": [
    {
     "name": "stdout",
     "output_type": "stream",
     "text": [
      "cod  Alumno       Eval1   Eval2  Total\n",
      "0    Agustin       81      30     111  \n",
      "1    Alan          60      95     155  \n",
      "2    Andrés        72      28     100  \n",
      "3    Ariadna       24      84     108  \n",
      "4    Bautista      15      84      99  \n",
      "5    CAROLINA      91      43     134  \n",
      "6    CESAR         12      66      78  \n",
      "7    David         70      51     121  \n",
      "8    Diego         29       4      33  \n",
      "9    Dolores       42      11      53  \n",
      "10   DYLAN         16      58      74  \n",
      "11   ELIANA         3      10      13  \n",
      "12   Emanuel       35      13      48  \n",
      "13   Fabián        67      34     101  \n",
      "14   Facundo       10      96     106  \n",
      "15   Facundo       57      71     128  \n",
      "16   FEDERICO      11      86      97  \n",
      "17   FEDERICO      69      37     106  \n",
      "18   GONZALO       12      64      76  \n",
      "19   Gregorio      77      13      90  \n",
      "20   Ignacio       13       8      21  \n",
      "21   Jonathan      86      87     173  \n",
      "22   Jonathan      48      14      62  \n",
      "23   Jorge         65      14      79  \n",
      "24   JOSE          51      49     100  \n",
      "25   JUAN          41      27      68  \n",
      "26   Juan          87      55     142  \n",
      "27   Juan          43      69     112  \n",
      "28   Julian        10      77      87  \n",
      "29   Julieta       87      59     146  \n",
      "30   LAUTARO       91      57     148  \n",
      "31   Leonel        15      40      55  \n",
      "32   LUIS          44      96     140  \n",
      "33   Luis          85      24     109  \n",
      "34   Marcos        73      30     103  \n",
      "35   María         37      73     110  \n",
      "36   MATEO         42      95     137  \n",
      "37   Matias        95      19     114  \n",
      "38   Nicolás       18      47      65  \n",
      "39   NICOLÁS        7      15      22  \n",
      "40   Noelia        74      31     105  \n",
      "41   Pablo         60      39      99  \n",
      "42   Priscila       9      15      24  \n",
      "43   TOMAS         65      74     139  \n",
      "44   Tomás         93      33     126  \n",
      "45   Ulises        63      57     120  \n",
      "46   Yanina        74      10      84  \n"
     ]
    }
   ],
   "source": [
    "#Impresión con formato de la imágen\n",
    "print (f'{\"cod\": <5}{\"Alumno\": <12}{\"Eval1\":^8}{\"Eval2\":^8}{\"Total\":^5}')\n",
    "for x in range(len(alumnos)):\n",
    "    total = int(evaluacion1[x]) + int(evaluacion2[x])\n",
    "    print (f\"{str(x) : <5}{alumnos[x]: <12}{evaluacion1[x]: ^7}{evaluacion2[x]: ^9}{str(total): ^6}\")"
   ]
  },
  {
   "cell_type": "markdown",
   "metadata": {},
   "source": [
    "Para dar el formato solicitado, se imprimió por f-string cada uno de los campos de la salida con los espacios de indentación necesarios, permitiendo una mayor legibilidad y claridad en el formato de la salida."
   ]
  }
 ],
 "metadata": {
  "interpreter": {
   "hash": "aecd030d4c8316a52bf122072e28f84bcc79844c2684e041fef2e3f1d9f59078"
  },
  "kernelspec": {
   "display_name": "Python 3.10.0 64-bit",
   "language": "python",
   "name": "python3"
  },
  "language_info": {
   "codemirror_mode": {
    "name": "ipython",
    "version": 3
   },
   "file_extension": ".py",
   "mimetype": "text/x-python",
   "name": "python",
   "nbconvert_exporter": "python",
   "pygments_lexer": "ipython3",
   "version": "3.10.0"
  },
  "orig_nbformat": 4
 },
 "nbformat": 4,
 "nbformat_minor": 2
}
